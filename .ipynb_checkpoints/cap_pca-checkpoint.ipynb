{
 "cells": [
  {
   "cell_type": "markdown",
   "metadata": {},
   "source": [
    "# Load libraries"
   ]
  },
  {
   "cell_type": "code",
   "execution_count": 1,
   "metadata": {
    "collapsed": true
   },
   "outputs": [],
   "source": [
    "import pandas as pd\n",
    "import numpy as np"
   ]
  },
  {
   "cell_type": "code",
   "execution_count": 2,
   "metadata": {
    "collapsed": true
   },
   "outputs": [],
   "source": [
    "from matplotlib import*\n",
    "import matplotlib.pyplot as plt\n",
    "from matplotlib.cm import register_cmap\n",
    "\n",
    "import seaborn as sns\n",
    "\n",
    "from bokeh.plotting import figure, output_file, show, ColumnDataSource\n",
    "from bokeh.models import HoverTool, FactorRange\n",
    "from bokeh.io import show, output_file\n",
    "from bokeh.models.tickers import FixedTicker\n",
    "from bokeh.models import Arrow, OpenHead, NormalHead, VeeHead\n",
    "\n",
    "from pprint import pprint"
   ]
  },
  {
   "cell_type": "code",
   "execution_count": 3,
   "metadata": {
    "collapsed": true
   },
   "outputs": [],
   "source": [
    "from scipy.cluster.hierarchy import fcluster\n",
    "from scipy.cluster.hierarchy import linkage, dendrogram\n",
    "from scipy import stats\n"
   ]
  },
  {
   "cell_type": "code",
   "execution_count": 4,
   "metadata": {
    "collapsed": true
   },
   "outputs": [],
   "source": [
    "from sklearn.preprocessing import StandardScaler\n",
    "from sklearn.manifold import TSNE\n",
    "from sklearn.preprocessing import normalize\n",
    "from sklearn.preprocessing import Normalizer\n",
    "from sklearn.pipeline import make_pipeline\n",
    "from sklearn.preprocessing import StandardScaler\n",
    "from sklearn.cluster import KMeans\n",
    "from sklearn.decomposition import PCA as sklearnPCA"
   ]
  },
  {
   "cell_type": "markdown",
   "metadata": {},
   "source": [
    "# Functions"
   ]
  },
  {
   "cell_type": "code",
   "execution_count": 5,
   "metadata": {
    "collapsed": true
   },
   "outputs": [],
   "source": [
    "# For labeling purpose. Create a list of PCx or Principal Component x\n",
    "def pc(num, lng):\n",
    "    if lng == 0:\n",
    "        prefix = 'PC'\n",
    "    else:\n",
    "        prefix = 'Principal Component '\n",
    "    pc_list = []\n",
    "    for i in np.arange(1, num+1):\n",
    "        pric = prefix+str(i)\n",
    "        pc_list.append(pric)\n",
    "    return pc_list"
   ]
  },
  {
   "cell_type": "code",
   "execution_count": 6,
   "metadata": {
    "collapsed": true
   },
   "outputs": [],
   "source": [
    "# Expected Proportion of the kth Largest Piece\n",
    "# Adobted from https://blogs.sas.com/content/iml/2017/08/02/retain-principal-components.html\n",
    "\n",
    "def exprop(n):\n",
    "    ex_list = []\n",
    "    for i in np.arange(1,n+1):\n",
    "        tempsum = 0\n",
    "        for j in np.arange(i, n+1):\n",
    "            tempsum = tempsum + (1/j)\n",
    "        cor = 100*tempsum/n\n",
    "        ex_list.append(cor)\n",
    "    return ex_list"
   ]
  },
  {
   "cell_type": "markdown",
   "metadata": {},
   "source": [
    "# Read data from spreadsheet"
   ]
  },
  {
   "cell_type": "code",
   "execution_count": 7,
   "metadata": {
    "collapsed": true
   },
   "outputs": [],
   "source": [
    "raw_input = pd.read_csv('data/cleaned.csv', index_col='County')"
   ]
  },
  {
   "cell_type": "code",
   "execution_count": 8,
   "metadata": {},
   "outputs": [
    {
     "name": "stdout",
     "output_type": "stream",
     "text": [
      "188 95\n"
     ]
    }
   ],
   "source": [
    "metrics = list(raw_input.columns)\n",
    "counties = list(raw_input.index)\n",
    "print(len(metrics), len(counties))"
   ]
  },
  {
   "cell_type": "markdown",
   "metadata": {},
   "source": [
    "# Step for principal component analysis"
   ]
  },
  {
   "cell_type": "code",
   "execution_count": 9,
   "metadata": {
    "collapsed": true
   },
   "outputs": [],
   "source": [
    "# Create scaler: scaler\n",
    "scaler = StandardScaler()\n",
    "\n",
    "# Fit the pipeline to 'samples'\n",
    "scaler_df = pd.DataFrame(scaler.fit_transform(raw_input))\n",
    "\n",
    "# Feature and Counties\n",
    "scaler_df.columns = metrics\n",
    "scaler_df.index = counties\n",
    "\n",
    "# Covariance matrix\n",
    "cov_df = pd.DataFrame(np.cov(scaler_df.T))\n",
    "\n",
    "cov_df.index = metrics\n",
    "cov_df.columns = metrics\n",
    "\n",
    "# Perform eigendecomposition on covariance matrix\n",
    "eig_vals, eig_vecs = np.linalg.eig(cov_df)\n",
    "\n",
    "# Eigenvalues in dataframe\n",
    "eigvals_df=pd.DataFrame(eig_vals)\n",
    "eigvals_df.columns = ['Eigenvalue']\n",
    "eigvals_df.index = pc(eigvals_df.shape[0], 1)\n",
    "\n",
    "\n",
    "# Eigenvectors in dataframe\n",
    "eigvecs_df=pd.DataFrame(eig_vecs)\n",
    "eigvecs_df.columns=pc(eig_vecs.shape[1],0)\n",
    "eigvecs_df.index = metrics\n",
    "\n",
    "\n",
    "# Create a PCA model with 30 components: the count of useful PCs will be selected later\n",
    "pca = sklearnPCA(n_components=30)\n",
    "\n",
    "# Fit the PCA instance to the scaled samples\n",
    "pca.fit(scaler_df)\n",
    "\n",
    "# Transform the scaled samples: pca_features\n",
    "pca_features = pca.transform(scaler_df)"
   ]
  },
  {
   "cell_type": "code",
   "execution_count": 10,
   "metadata": {
    "collapsed": true
   },
   "outputs": [],
   "source": [
    "# Scree plot values: determine how many components sufficiently explain variations.\n",
    "# Expected Proportion of the kth Largest Piece\n",
    "# Adobted from https://blogs.sas.com/content/iml/2017/08/02/retain-principal-components.html\n",
    "\n",
    "\n",
    "vari= eigvals_df=pd.DataFrame(100* pca.explained_variance_ratio_)\n",
    "vari['1'] = ''\n",
    "vari['2'] = ''\n",
    "vari.iloc[0,1] = vari.iloc[0,0]\n",
    "vari.iloc[0,2] = eig_vals[0].real\n",
    "for i in np.arange(1, vari.shape[0]):\n",
    "    vari.iloc[i,1] = vari.iloc[i,0] + vari.iloc[i-1,1]\n",
    "    vari.iloc[i,2] = eig_vals[i].real\n",
    "    \n",
    "vari.columns = ['Exp. Variance (%)', 'Cumulative (%)', 'Eigenvalue']\n",
    "vari.index = pc(vari.shape[0],0)\n",
    "vari['Broken Stick Threshold'] = exprop(vari.shape[0])\n",
    "#vari"
   ]
  },
  {
   "cell_type": "code",
   "execution_count": 11,
   "metadata": {
    "scrolled": true
   },
   "outputs": [
    {
     "data": {
      "text/html": [
       "<div>\n",
       "<style>\n",
       "    .dataframe thead tr:only-child th {\n",
       "        text-align: right;\n",
       "    }\n",
       "\n",
       "    .dataframe thead th {\n",
       "        text-align: left;\n",
       "    }\n",
       "\n",
       "    .dataframe tbody tr th {\n",
       "        vertical-align: top;\n",
       "    }\n",
       "</style>\n",
       "<table border=\"1\" class=\"dataframe\">\n",
       "  <thead>\n",
       "    <tr style=\"text-align: right;\">\n",
       "      <th></th>\n",
       "      <th>Exp. Variance (%)</th>\n",
       "      <th>Cumulative (%)</th>\n",
       "      <th>Eigenvalue</th>\n",
       "      <th>Broken Stick Threshold</th>\n",
       "    </tr>\n",
       "  </thead>\n",
       "  <tbody>\n",
       "    <tr>\n",
       "      <th>PC1</th>\n",
       "      <td>36.931857</td>\n",
       "      <td>36.9319</td>\n",
       "      <td>70.1705</td>\n",
       "      <td>13.316624</td>\n",
       "    </tr>\n",
       "    <tr>\n",
       "      <th>PC2</th>\n",
       "      <td>13.080779</td>\n",
       "      <td>50.0126</td>\n",
       "      <td>24.8535</td>\n",
       "      <td>9.983290</td>\n",
       "    </tr>\n",
       "    <tr>\n",
       "      <th>PC3</th>\n",
       "      <td>11.508304</td>\n",
       "      <td>61.5209</td>\n",
       "      <td>21.8658</td>\n",
       "      <td>8.316624</td>\n",
       "    </tr>\n",
       "    <tr>\n",
       "      <th>PC28</th>\n",
       "      <td>0.436514</td>\n",
       "      <td>92.5629</td>\n",
       "      <td>0.829376</td>\n",
       "      <td>0.345101</td>\n",
       "    </tr>\n",
       "    <tr>\n",
       "      <th>PC29</th>\n",
       "      <td>0.423037</td>\n",
       "      <td>92.9859</td>\n",
       "      <td>0.80377</td>\n",
       "      <td>0.226054</td>\n",
       "    </tr>\n",
       "    <tr>\n",
       "      <th>PC30</th>\n",
       "      <td>0.395436</td>\n",
       "      <td>93.3813</td>\n",
       "      <td>0.751328</td>\n",
       "      <td>0.111111</td>\n",
       "    </tr>\n",
       "  </tbody>\n",
       "</table>\n",
       "</div>"
      ],
      "text/plain": [
       "      Exp. Variance (%) Cumulative (%) Eigenvalue  Broken Stick Threshold\n",
       "PC1           36.931857        36.9319    70.1705               13.316624\n",
       "PC2           13.080779        50.0126    24.8535                9.983290\n",
       "PC3           11.508304        61.5209    21.8658                8.316624\n",
       "PC28           0.436514        92.5629   0.829376                0.345101\n",
       "PC29           0.423037        92.9859    0.80377                0.226054\n",
       "PC30           0.395436        93.3813   0.751328                0.111111"
      ]
     },
     "execution_count": 11,
     "metadata": {},
     "output_type": "execute_result"
    }
   ],
   "source": [
    "# This line filters significant according to broken stick method. (PCs 28-30 are probably neglible)\n",
    "\n",
    "vari[vari['Exp. Variance (%)'] > vari['Broken Stick Threshold']]"
   ]
  },
  {
   "cell_type": "code",
   "execution_count": 71,
   "metadata": {
    "scrolled": true
   },
   "outputs": [
    {
     "data": {
      "image/png": "[encoded data removed]",
      "text/plain": [
       "<matplotlib.figure.Figure at 0x1a1aa6dc18>"
      ]
     },
     "metadata": {},
     "output_type": "display_data"
    }
   ],
   "source": [
    "# Scree Plot\n",
    "\n",
    "# drawing charts and labels\n",
    "\n",
    "plt.rcParams[\"figure.figsize\"] = [20,6]\n",
    "\n",
    "exvar = plt.plot(np.arange(1, vari.shape[0]+1),vari['Exp. Variance (%)'], color = 'green', linewidth = 1, marker ='o')\n",
    "acvar = plt.plot(np.arange(1, vari.shape[0]+1),vari['Cumulative (%)'], color='red', linewidth = 1, marker ='o' )\n",
    "br_st = plt.plot(np.arange(1, vari.shape[0]+1),vari['Broken Stick Threshold'], color = 'violet', linewidth = 2, linestyle=\"--\")\n",
    "eival = plt.bar(np.arange(1, vari.shape[0]+1),vari['Eigenvalue'], color = 'lightblue')\n",
    "\n",
    "\n",
    "plt.xlabel('Principal Components')\n",
    "plt.xticks(np.arange(1, vari.shape[0]+1))\n",
    "plt.yticks(np.arange(10, 110, 10))\n",
    "\n",
    "# first_legend = plt.legend(handles=[exvar,first_legend],loc=1)\n",
    "# ax = plt.gca().add_artist(first_legend)\n",
    "plt.legend()\n",
    "# plt.legend(handles=[eival,first_legend])\n",
    "plt.show()"
   ]
  },
  {
   "cell_type": "code",
   "execution_count": 73,
   "metadata": {
    "collapsed": true,
    "scrolled": true
   },
   "outputs": [],
   "source": [
    "pcaft_df = pd.DataFrame(pca_features)\n",
    "pcaft_df.columns = pc(pcaft_df.shape[1],0)\n",
    "pcaft_df.index = counties\n",
    "pcaft_df.drop(list(pcaft_df.columns[np.arange(3,pcaft_df.shape[1])]), axis=1, inplace=True)"
   ]
  },
  {
   "cell_type": "code",
   "execution_count": 74,
   "metadata": {
    "collapsed": true,
    "scrolled": true
   },
   "outputs": [],
   "source": [
    "pcacom_df = pd.DataFrame(pca.components_.T)\n",
    "pcacom_df.columns = pc(pcacom_df.shape[1],0)\n",
    "pcacom_df.index = metrics\n",
    "pcacom_df.drop(list(pcacom_df.columns[np.arange(3,pcacom_df.shape[1])]), axis=1, inplace=True)"
   ]
  },
  {
   "cell_type": "code",
   "execution_count": 92,
   "metadata": {},
   "outputs": [],
   "source": [
    "# PC1 vs PC2\n",
    "\n",
    "output_file(\"pc1vs2.html\")\n",
    "\n",
    "hover = HoverTool(tooltips=[(\"index\", \"$index\"), (\"desc\", \"@desc\")])\n",
    "\n",
    "\n",
    "p = figure(title=\"PC1 vs PC2\",\n",
    "           plot_width=1300, plot_height=700,\n",
    "           x_axis_label='Principal Component 1',\n",
    "          y_axis_label='Principal Component 2',\n",
    "          tools=[hover])\n",
    "\n",
    "pc_x = pcaft_df['PC1']\n",
    "pc_y = pcaft_df['PC2']\n",
    "\n",
    "pc_xv = 100 * pcacom_df['PC1']\n",
    "pc_yv = 100 * pcacom_df['PC2']\n",
    "\n",
    "\n",
    "p.circle(pc_x, pc_y, color=None, fill_color=\"red\", size=15, fill_alpha = 0.5)\n",
    "p.segment(0,0, pc_xv, pc_yv, line_color=\"blue\", line_width = 1, line_alpha = 0.1)\n",
    "\n",
    "p.triangle(pc_xv, pc_yv, color = None, size=5, fill_color=\"blue\", fill_alpha = 0.1, angle=np.arctan(pc_yv/pc_xv))\n",
    "\n",
    "#p.add_layout(Arrow(end=OpenHead(line_color=\"blue\", line_width=1), x_start=0, y_start=0, x_end=5, y_end=3))\n",
    "\n",
    "show(p)"
   ]
  },
  {
   "cell_type": "code",
   "execution_count": 38,
   "metadata": {
    "collapsed": true
   },
   "outputs": [],
   "source": [
    "res = pca.transform(np.eye(len(metrics)))"
   ]
  },
  {
   "cell_type": "code",
   "execution_count": 39,
   "metadata": {
    "collapsed": true
   },
   "outputs": [],
   "source": [
    "res_df = pd.DataFrame(res)"
   ]
  },
  {
   "cell_type": "code",
   "execution_count": 42,
   "metadata": {
    "collapsed": true
   },
   "outputs": [],
   "source": [
    "# pcaft_df.to_csv('data/plots.csv') "
   ]
  }
 ],
 "metadata": {
  "kernelspec": {
   "display_name": "Python 3",
   "language": "python",
   "name": "python3"
  },
  "language_info": {
   "codemirror_mode": {
    "name": "ipython",
    "version": 3
   },
   "file_extension": ".py",
   "mimetype": "text/x-python",
   "name": "python",
   "nbconvert_exporter": "python",
   "pygments_lexer": "ipython3",
   "version": "3.6.2"
  }
 },
 "nbformat": 4,
 "nbformat_minor": 2
}
