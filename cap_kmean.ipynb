{
 "cells": [
  {
   "cell_type": "markdown",
   "metadata": {},
   "source": [
    "## 4. K-mean clustering"
   ]
  },
  {
   "cell_type": "markdown",
   "metadata": {},
   "source": [
    "### 4.1. Load libraries"
   ]
  },
  {
   "cell_type": "code",
   "execution_count": null,
   "metadata": {
    "collapsed": true
   },
   "outputs": [],
   "source": [
    "import pandas as pd\n",
    "import numpy as np\n",
    "import ipywidgets as widgets"
   ]
  },
  {
   "cell_type": "code",
   "execution_count": null,
   "metadata": {
    "collapsed": true
   },
   "outputs": [],
   "source": [
    "import seaborn as sns\n",
    "\n",
    "from bokeh.plotting import figure, output_file, show, ColumnDataSource\n",
    "from bokeh.models import HoverTool, FactorRange\n",
    "from bokeh.io import show, output_file\n",
    "from bokeh.models.tickers import FixedTicker\n",
    "from bokeh.models import Arrow, OpenHead, NormalHead, VeeHead\n",
    "from bokeh.tile_providers import CARTODBPOSITRON"
   ]
  },
  {
   "cell_type": "code",
   "execution_count": null,
   "metadata": {
    "collapsed": true
   },
   "outputs": [],
   "source": [
    "from scipy.cluster.hierarchy import fcluster\n",
    "from scipy.cluster.hierarchy import linkage, dendrogram\n",
    "from scipy import stats"
   ]
  },
  {
   "cell_type": "code",
   "execution_count": null,
   "metadata": {
    "collapsed": true
   },
   "outputs": [],
   "source": [
    "from sklearn.preprocessing import StandardScaler\n",
    "from sklearn.manifold import TSNE\n",
    "from sklearn.preprocessing import normalize\n",
    "from sklearn.preprocessing import Normalizer\n",
    "from sklearn.pipeline import make_pipeline\n",
    "from sklearn.preprocessing import StandardScaler\n",
    "from sklearn.cluster import KMeans\n",
    "from sklearn.decomposition import PCA as sklearnPCA"
   ]
  },
  {
   "cell_type": "markdown",
   "metadata": {},
   "source": [
    "### 4.2. Functions"
   ]
  },
  {
   "cell_type": "code",
   "execution_count": null,
   "metadata": {
    "collapsed": true
   },
   "outputs": [],
   "source": [
    "def kcolor(num):\n",
    "    global kolors\n",
    "    color_code = ['red','green','blue','orange','purple','brown','cadetblue','maroon','olive']\n",
    "    kolors = len(color_code)\n",
    "    if num in np.arange(0, len(color_code)):\n",
    "        pickolor = color_code[num]\n",
    "    else:\n",
    "        pickolor = 'black'\n",
    "    \n",
    "    return pickolor\n",
    "        "
   ]
  },
  {
   "cell_type": "markdown",
   "metadata": {},
   "source": [
    "### 4.3. Reading Data"
   ]
  },
  {
   "cell_type": "markdown",
   "metadata": {},
   "source": [
    " This widget will set the number of clusters."
   ]
  },
  {
   "cell_type": "code",
   "execution_count": null,
   "metadata": {},
   "outputs": [],
   "source": [
    "# The limit is the number of the colors defined in kcolor function above (clusters will be color labeled)\n",
    "\n",
    "kcolor(1)\n",
    "\n",
    "wg_cluster = widgets.IntSlider(\n",
    "    max = kolors,\n",
    "    min = 1,\n",
    "    value = 5\n",
    ")\n",
    "\n",
    "display(wg_cluster)"
   ]
  },
  {
   "cell_type": "code",
   "execution_count": null,
   "metadata": {
    "collapsed": true
   },
   "outputs": [],
   "source": [
    "pc123_df = pd.read_csv('data/plots.csv', index_col=0)\n",
    "vec123_df = pd.read_csv('data/vectors.csv', index_col=0)\n",
    "feat_dict = pd.read_csv('data/Col_Dict.csv', index_col=0)"
   ]
  },
  {
   "cell_type": "code",
   "execution_count": null,
   "metadata": {
    "collapsed": true
   },
   "outputs": [],
   "source": [
    "vec123_full = vec123_df.merge(feat_dict, left_index=True, right_on='brief_header', how='left')\n",
    "vec123_full.index = vec123_full['brief_header']\n",
    "vec123_full.drop(['brief_header','Ref'], axis=1, inplace=True)\n",
    "#vec123_full"
   ]
  },
  {
   "cell_type": "code",
   "execution_count": null,
   "metadata": {
    "collapsed": true
   },
   "outputs": [],
   "source": [
    "pc12_df = pc123_df.drop(['PC3'], axis=1)\n",
    "pc13_df = pc123_df.drop(['PC2'], axis=1)\n",
    "vec12_df = vec123_df.drop(['PC3'], axis=1)\n",
    "vec13_df = vec123_df.drop(['PC2'], axis=1)"
   ]
  },
  {
   "cell_type": "markdown",
   "metadata": {},
   "source": [
    "### 4.4. K-mean clustering"
   ]
  },
  {
   "cell_type": "code",
   "execution_count": null,
   "metadata": {
    "collapsed": true
   },
   "outputs": [],
   "source": [
    "\n",
    "pc12_a = np.array(pc12_df)\n",
    "\n",
    "# Create a KMeans instance: model\n",
    "model = KMeans(n_clusters=wg_cluster.value)\n",
    "\n",
    "# Fit model to points\n",
    "model.fit(pc12_a)\n",
    "\n",
    "# Determine the cluster labels of new_points: labels\n",
    "labels = model.predict(pc12_a)\n",
    "\n",
    "color_list = []\n",
    "for i in np.arange(len(labels)):\n",
    "    color_list.append(kcolor(labels[i]))\n",
    "\n",
    "pc12_df['cluster'] = color_list"
   ]
  },
  {
   "cell_type": "code",
   "execution_count": null,
   "metadata": {
    "collapsed": true
   },
   "outputs": [],
   "source": [
    "\n",
    "pc123_a = np.array(pc123_df)\n",
    "\n",
    "# Create a KMeans instance: model\n",
    "model = KMeans(n_clusters=wg_cluster.value)\n",
    "\n",
    "# Fit model to points\n",
    "model.fit(pc123_a)\n",
    "\n",
    "# Determine the cluster labels of new_points: labels\n",
    "labels = model.predict(pc123_a)\n",
    "\n",
    "color_list = []\n",
    "for i in np.arange(len(labels)):\n",
    "    color_list.append(kcolor(labels[i]))\n",
    "\n",
    "pc123_df['cluster'] = color_list"
   ]
  },
  {
   "cell_type": "code",
   "execution_count": null,
   "metadata": {
    "collapsed": true
   },
   "outputs": [],
   "source": [
    "\n",
    "pc13_a = np.array(pc13_df)\n",
    "\n",
    "# Create a KMeans instance: model\n",
    "model = KMeans(n_clusters=wg_cluster.value)\n",
    "\n",
    "# Fit model to points\n",
    "model.fit(pc13_a)\n",
    "\n",
    "# Determine the cluster labels of new_points: labels\n",
    "labels = model.predict(pc13_a)\n",
    "\n",
    "color_list = []\n",
    "for i in np.arange(len(labels)):\n",
    "    color_list.append(kcolor(labels[i]))\n",
    "\n",
    "pc13_df['cluster'] = color_list"
   ]
  },
  {
   "cell_type": "code",
   "execution_count": null,
   "metadata": {
    "collapsed": true
   },
   "outputs": [],
   "source": [
    "vec12_a = np.array(vec12_df)\n",
    "\n",
    "# Create a KMeans instance: model\n",
    "model = KMeans(n_clusters=wg_cluster.value)\n",
    "\n",
    "# Fit model to points\n",
    "model.fit(vec12_a)\n",
    "\n",
    "# Determine the cluster labels of new_points: labels\n",
    "labels = model.predict(vec12_a)\n",
    "\n",
    "color_list = []\n",
    "for i in np.arange(len(labels)):\n",
    "    color_list.append(kcolor(labels[i]))\n",
    "\n",
    "vec12_df['cluster'] = color_list"
   ]
  },
  {
   "cell_type": "code",
   "execution_count": null,
   "metadata": {
    "collapsed": true
   },
   "outputs": [],
   "source": [
    "vec13_a = np.array(vec13_df)\n",
    "\n",
    "# Create a KMeans instance: model\n",
    "model = KMeans(n_clusters=wg_cluster.value)\n",
    "\n",
    "# Fit model to points\n",
    "model.fit(vec13_a)\n",
    "\n",
    "# Determine the cluster labels of new_points: labels\n",
    "labels = model.predict(vec13_a)\n",
    "\n",
    "color_list = []\n",
    "for i in np.arange(len(labels)):\n",
    "    color_list.append(kcolor(labels[i]))\n",
    "\n",
    "vec13_df['cluster'] = color_list"
   ]
  },
  {
   "cell_type": "code",
   "execution_count": null,
   "metadata": {
    "collapsed": true
   },
   "outputs": [],
   "source": [
    "vec123_a = np.array(vec123_df)\n",
    "\n",
    "# Create a KMeans instance: model\n",
    "model = KMeans(n_clusters=wg_cluster.value)\n",
    "\n",
    "# Fit model to points\n",
    "model.fit(vec123_a)\n",
    "\n",
    "# Determine the cluster labels of new_points: labels\n",
    "labels = model.predict(vec123_a)\n",
    "\n",
    "color_list = []\n",
    "for i in np.arange(len(labels)):\n",
    "    color_list.append(kcolor(labels[i]))\n",
    "\n",
    "vec123_df['cluster'] = color_list"
   ]
  },
  {
   "cell_type": "code",
   "execution_count": null,
   "metadata": {
    "collapsed": true
   },
   "outputs": [],
   "source": [
    "vec12_df = vec12_df.merge(feat_dict, left_index=True, right_on='brief_header', how='left')\n",
    "vec12_df.index = vec12_df['brief_header']\n",
    "vec12_df.drop(['brief_header','Ref'], axis=1, inplace=True)\n",
    "# vec12_df"
   ]
  },
  {
   "cell_type": "code",
   "execution_count": null,
   "metadata": {
    "collapsed": true
   },
   "outputs": [],
   "source": [
    "vec123_df = vec123_df.merge(feat_dict, left_index=True, right_on='brief_header', how='left')\n",
    "vec123_df.index = vec123_df['brief_header']\n",
    "vec123_df.drop(['brief_header','Ref'], axis=1, inplace=True)\n",
    "#vec123_df"
   ]
  },
  {
   "cell_type": "code",
   "execution_count": null,
   "metadata": {
    "collapsed": true
   },
   "outputs": [],
   "source": [
    "vec13_df = vec13_df.merge(feat_dict, left_index=True, right_on='brief_header', how='left')\n",
    "vec13_df.index = vec13_df['brief_header']\n",
    "vec13_df.drop(['brief_header','Ref'], axis=1, inplace=True)\n",
    "# vec13_df"
   ]
  },
  {
   "cell_type": "markdown",
   "metadata": {},
   "source": [
    "### 4.5. Plotting results\n",
    "Results will appear in new tab/window"
   ]
  },
  {
   "cell_type": "code",
   "execution_count": null,
   "metadata": {},
   "outputs": [],
   "source": [
    "output_file(\"pc1vs2m.html\")\n",
    "\n",
    "\n",
    "# SourceP and SourceV are hover texts for data points and eigenvectors respectively\n",
    "sourcep = ColumnDataSource(data=dict(\n",
    "    x=pc123_df['PC1'],\n",
    "    y=pc123_df['PC2'],\n",
    "    desc=list(pc123_df.index),\n",
    "))\n",
    "\n",
    "sourcev = ColumnDataSource(data=dict(\n",
    "    x=vec123_df['PC1'],\n",
    "    y=vec123_df['PC2'],\n",
    "    desc=vec123_full['description'],\n",
    "))\n",
    "\n",
    "\n",
    "hover = HoverTool(tooltips=[(\"\", \"@desc\"),])\n",
    "\n",
    "p = figure(title=\"PC1 vs PC2 - Not Clustered\",\n",
    "           plot_width=1300, plot_height=700,\n",
    "           x_axis_label='Principal Component 1',\n",
    "          y_axis_label='Principal Component 2', \n",
    "           tools=[hover])\n",
    "\n",
    "pc_x = pc123_df['PC1']\n",
    "pc_y = pc123_df['PC2']\n",
    "pc_c = pc123_df['cluster']\n",
    "\n",
    "p.circle(pc_x, pc_y, color=None, fill_color='red', size=9, fill_alpha = 0.5, source = sourcep)\n",
    "\n",
    "rescale = 50\n",
    "pc1_vx = rescale * vec123_df['PC1']\n",
    "pc1_vy2 = rescale * vec123_df['PC2']\n",
    "pc_cv = vec123_df['cluster']\n",
    "\n",
    "\n",
    "p.segment(0,0, pc1_vx, pc1_vy2, line_color=\"black\", line_width = 1, line_alpha = 0.1)\n",
    "\n",
    "p.triangle(pc1_vx, pc1_vy2, color = None, size=5, fill_color='black', fill_alpha = 0.5, angle=-np.abs(pc1_vx) * np.arctan(pc1_vx/pc1_vy2), source = sourcev)\n",
    "\n",
    "show(p)"
   ]
  },
  {
   "cell_type": "code",
   "execution_count": null,
   "metadata": {
    "collapsed": true
   },
   "outputs": [],
   "source": [
    "output_file(\"pc1vs2k.html\")\n",
    "\n",
    "\n",
    "# SourceP and SourceV are hover texts for data points and eigenvectors respectively\n",
    "sourcep = ColumnDataSource(data=dict(\n",
    "    x=pc123_df['PC1'],\n",
    "    y=pc123_df['PC2'],\n",
    "    desc=list(pc123_df.index),\n",
    "))\n",
    "\n",
    "sourcev = ColumnDataSource(data=dict(\n",
    "    x=vec123_df['PC1'],\n",
    "    y=vec123_df['PC2'],\n",
    "    desc=vec123_full['description'],\n",
    "))\n",
    "\n",
    "\n",
    "hover = HoverTool(tooltips=[(\"\", \"@desc\"),])\n",
    "\n",
    "p = figure(title=\"PC1 vs PC2 - K-mean clustered\",\n",
    "           plot_width=1300, plot_height=700,\n",
    "           x_axis_label='Principal Component 1',\n",
    "          y_axis_label='Principal Component 2', \n",
    "           tools=[hover])\n",
    "\n",
    "pc_x = pc123_df['PC1']\n",
    "pc_y = pc123_df['PC2']\n",
    "pc_c = pc123_df['cluster']\n",
    "\n",
    "p.circle(pc_x, pc_y, color=None, fill_color=pc_c, size=9, fill_alpha = 0.5, source = sourcep)\n",
    "\n",
    "rescale = 50\n",
    "pc1_vx = rescale * vec123_df['PC1']\n",
    "pc1_vy2 = rescale * vec123_df['PC2']\n",
    "pc_cv = vec12_df['cluster']\n",
    "\n",
    "\n",
    "p.segment(0,0, pc1_vx, pc1_vy2, line_color=\"black\", line_width = 1, line_alpha = 0.1)\n",
    "\n",
    "p.triangle(pc1_vx, pc1_vy2, color = None, size=5, fill_color=pc_cv, fill_alpha = 0.5, angle=-np.abs(pc1_vx) * np.arctan(pc1_vx/pc1_vy2), source = sourcev)\n",
    "\n",
    "show(p)"
   ]
  },
  {
   "cell_type": "code",
   "execution_count": null,
   "metadata": {},
   "outputs": [],
   "source": [
    "output_file(\"pc1vs3k.html\")\n",
    "\n",
    "\n",
    "# SourceP and SourceV are hover texts for data points and eigenvectors respectively\n",
    "sourcep = ColumnDataSource(data=dict(\n",
    "    x=pc123_df['PC1'],\n",
    "    y=pc123_df['PC3'],\n",
    "    desc=list(pc123_df.index),\n",
    "))\n",
    "\n",
    "sourcev = ColumnDataSource(data=dict(\n",
    "    x=vec123_df['PC1'],\n",
    "    y=vec123_df['PC3'],\n",
    "    desc=vec123_full['description'],\n",
    "))\n",
    "\n",
    "\n",
    "hover = HoverTool(tooltips=[(\"\", \"@desc\"),])\n",
    "\n",
    "p = figure(title=\"PC1 vs PC3 - K-mean clustered\",\n",
    "           plot_width=1300, plot_height=700,\n",
    "           x_axis_label='Principal Component 1',\n",
    "          y_axis_label='Principal Component 3', \n",
    "           tools=[hover])\n",
    "\n",
    "pc_x = pc123_df['PC1']\n",
    "pc_y = pc123_df['PC3']\n",
    "pc_c = pc123_df['cluster']\n",
    "\n",
    "p.circle(pc_x, pc_y, color=None, fill_color=pc_c, size=9, fill_alpha = 0.5, source = sourcep)\n",
    "\n",
    "rescale = 50\n",
    "pc1_vx = rescale * vec123_df['PC1']\n",
    "pc1_vy2 = rescale * vec123_df['PC3']\n",
    "pc_cv = vec12_df['cluster']\n",
    "\n",
    "\n",
    "p.segment(0,0, pc1_vx, pc1_vy2, line_color=\"black\", line_width = 1, line_alpha = 0.1)\n",
    "\n",
    "p.triangle(pc1_vx, pc1_vy2, color = None, size=5, fill_color=pc_cv, fill_alpha = 0.5, angle=-np.abs(pc1_vx) * np.arctan(pc1_vx/pc1_vy2), source = sourcev)\n",
    "\n",
    "show(p)"
   ]
  },
  {
   "cell_type": "code",
   "execution_count": null,
   "metadata": {},
   "outputs": [],
   "source": [
    "import folium\n",
    "cty_map = pd.read_csv('data/indus_dist.csv', index_col=0)\n",
    "map_df = cty_map.merge(pc123_df, left_on='county', right_index=True, how='left')\n",
    "map_df.drop(['Avg_Dist','PC1','PC2','PC3'], axis=1, inplace=True)\n",
    "\n",
    "\n",
    "map_2 = folium.Map(location=[36.5, -86],\n",
    "                   tiles='Stamen Toner',\n",
    "                   zoom_start=7)\n",
    "for i in np.arange(map_df.shape[0]):\n",
    "    folium.CircleMarker([map_df.iloc[i,1], map_df.iloc[i,2]],\n",
    "                    radius=7,\n",
    "                    color=map_df.iloc[i,3],\n",
    "                    fill_color=map_df.iloc[i,3],\n",
    "                   ).add_to(map_2)\n",
    "map_2\n"
   ]
  },
  {
   "cell_type": "code",
   "execution_count": null,
   "metadata": {},
   "outputs": [],
   "source": [
    "clus = widgets.Dropdown(\n",
    "    options=list(vec12_df.iloc[:,2].unique()),\n",
    "    description='Feature:',\n",
    "    disabled=False,\n",
    ")\n",
    "display(clus)"
   ]
  },
  {
   "cell_type": "code",
   "execution_count": null,
   "metadata": {
    "scrolled": false
   },
   "outputs": [],
   "source": [
    "pd.DataFrame(vec12_df[vec12_df['cluster']==clus.value]['description'].sort_values())"
   ]
  },
  {
   "cell_type": "code",
   "execution_count": null,
   "metadata": {},
   "outputs": [],
   "source": [
    "cty = widgets.Dropdown(\n",
    "    options=list(pc12_df.iloc[:,2].unique()),\n",
    "    description='County:',\n",
    "    disabled=False,\n",
    ")\n",
    "display(cty)"
   ]
  },
  {
   "cell_type": "code",
   "execution_count": null,
   "metadata": {
    "scrolled": false
   },
   "outputs": [],
   "source": [
    "pd.DataFrame(pc12_df[pc12_df['cluster']==cty.value].index.sort_values())"
   ]
  },
  {
   "cell_type": "code",
   "execution_count": null,
   "metadata": {},
   "outputs": [],
   "source": [
    "cty_map = pd.read_csv('data/indus_dist.csv', index_col=0)\n",
    "\n",
    "\n",
    "cty_map.head(3)\n"
   ]
  },
  {
   "cell_type": "code",
   "execution_count": null,
   "metadata": {},
   "outputs": [],
   "source": [
    "pc12_df.head(3)"
   ]
  },
  {
   "cell_type": "code",
   "execution_count": null,
   "metadata": {
    "collapsed": true
   },
   "outputs": [],
   "source": [
    "map_df = cty_map.merge(pc12_df, left_on='county', right_index=True, how='left')\n",
    "map_df.drop(['Avg_Dist','PC1','PC2'], axis=1, inplace=True)"
   ]
  },
  {
   "cell_type": "code",
   "execution_count": null,
   "metadata": {},
   "outputs": [],
   "source": [
    "map_df.head(3)"
   ]
  }
 ],
 "metadata": {
  "kernelspec": {
   "display_name": "Python 3",
   "language": "python",
   "name": "python3"
  },
  "language_info": {
   "codemirror_mode": {
    "name": "ipython",
    "version": 3
   },
   "file_extension": ".py",
   "mimetype": "text/x-python",
   "name": "python",
   "nbconvert_exporter": "python",
   "pygments_lexer": "ipython3",
   "version": "3.6.2"
  }
 },
 "nbformat": 4,
 "nbformat_minor": 2
}
